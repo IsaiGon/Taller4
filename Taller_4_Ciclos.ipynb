{
  "cells": [
    {
      "cell_type": "markdown",
      "metadata": {
        "id": "view-in-github",
        "colab_type": "text"
      },
      "source": [
        "<a href=\"https://colab.research.google.com/github/IsaiGon/Taller4/blob/main/Taller_4_Ciclos.ipynb\" target=\"_parent\"><img src=\"https://colab.research.google.com/assets/colab-badge.svg\" alt=\"Open In Colab\"/></a>"
      ]
    },
    {
      "cell_type": "markdown",
      "id": "66beb5a1",
      "metadata": {
        "id": "66beb5a1"
      },
      "source": [
        "# Fundamentos de Programación para Ingeniería Mecánica\n",
        "## UPB Montería - 202310\n",
        "### Taller 4: Ciclos\n",
        "- Docente: Miguel Ortiz (miguel.ortizp@upb.edu.co)"
      ]
    },
    {
      "cell_type": "markdown",
      "id": "b4381f55",
      "metadata": {
        "id": "b4381f55"
      },
      "source": [
        "Datos del Estudiante:\n",
        "- Nombre: Isai David González Montes\n",
        "- ID: 000523087\n",
        "- email: isai.gonzalez@upb.edu.co"
      ]
    },
    {
      "cell_type": "markdown",
      "id": "433f35a0",
      "metadata": {
        "id": "433f35a0"
      },
      "source": [
        "Resuelva los siguientes ejercicios utilizando estructuras cíclicas y condicionales."
      ]
    },
    {
      "cell_type": "markdown",
      "id": "aead929b",
      "metadata": {
        "id": "aead929b"
      },
      "source": [
        "### Problema 1: Suma de Elementos (30xp)\n",
        "\n",
        "Indique cuál de los dos números ingresados por el usuario tiene una suma de dígitos mayor y la diferencia de estas sumas. Si las sumas de los dígitos son iguales, infórmelo al usuario. \n",
        "\n",
        "**Ejemplo:**\n",
        "\n",
        "```\n",
        "Ingrese el primer número: 23672646\n",
        "Ingrese el segundo número: 12653686\n",
        "La suma de los elementos de la lista 2 es mayor que la suma de los elementos de la lista 1 en 1 unidades.\n",
        "```\n",
        "\n",
        "**Recomendación:** pruebe su algoritmo con listas de prueba:\n",
        "- `lst_1`: lista que representa el primer número. Por ejemplo: dígitos del número de su documento de identidad\n",
        "- `lst_2`: lista que representa el segundo número. Por ejemplo: dígitos del número de su id\n",
        "\n",
        "**Nota:** para leer un número ingresado por el usuario y convertirlo en lista puede utilizar las siguientes instrucciones:\n",
        "\n",
        "```python\n",
        "num = input('Número: ')\n",
        "lst = [int(x) for x in num]\n",
        "```"
      ]
    },
    {
      "cell_type": "code",
      "execution_count": 5,
      "id": "46b47e9b",
      "metadata": {
        "id": "46b47e9b",
        "colab": {
          "base_uri": "https://localhost:8080/"
        },
        "outputId": "8be4e4a4-e9de-42cd-c6c3-7069caece353"
      },
      "outputs": [
        {
          "output_type": "stream",
          "name": "stdout",
          "text": [
            "Ingrese el primer número: 12653686\n",
            "Ingrese el segundo número: 12653686\n",
            "La suma de los elementos de la lista 1 es igual a la suma de los elementos de la lista 2\n"
          ]
        }
      ],
      "source": [
        "num1 = input(\"Ingrese el primer número: \")\n",
        "num2 = input(\"Ingrese el segundo número: \")\n",
        "\n",
        "lst_1 = [int(x) for x in num1]\n",
        "lst_2 = [int(x) for x in num2]\n",
        "\n",
        "suma1 = sum(lst_1)\n",
        "suma2 = sum(lst_2)\n",
        "\n",
        "if suma1 == suma2:\n",
        "    print(\"La suma de los elementos de la lista 1 es igual a la suma de los elementos de la lista 2\")\n",
        "elif suma1 > suma2:\n",
        "    print(\"La suma de los elementos de la lista 1 es mayor que la suma de los elementos de la lista 2 en\", suma1 - suma2, \"unidades\")\n",
        "else:\n",
        "    print(\"La suma de los elementos de la lista 2 es mayor que la suma de los elementos de la lista 1 en\", suma2 - suma1, \"unidades\")"
      ]
    },
    {
      "cell_type": "markdown",
      "id": "986a4945",
      "metadata": {
        "id": "986a4945"
      },
      "source": [
        "### Problema 2: Suma Objetivo (50xp)\n",
        "\n",
        "Indique si la suma de los dígitos de un número de verificación alcanza un valor objetivo. Si obtiene el valor objetivo antes de finalizar el recorrido por todos los dígitos del número, indique la iteración en la que se obtuvo este valor. Tenga en cuenta que tanto el valor objetivo como el número de verificación son ingresados por el usuario. En cualquiera de los casos, muestre el resultado obtenido de la suma de los dígitos.\n",
        "\n",
        "**Ejemplo:**\n",
        "```\n",
        "Ingrese número de suma objetivo: 15\n",
        "Ingrese número para validar suma de dígitos: 1234562\n",
        "Suma obtenida en iteración 5 de 7\n",
        "Resultado obtenido: 15\n",
        "Alcanzó el valor objetivo.\n",
        "```\n",
        "\n",
        "**Recomendación:** pruebe su algoritmo con números y listas de prueba:\n",
        "- `n_obj`: valor objetivo\n",
        "- `lst`: lista que representa el número de verificación. Por ejemplo: dígitos del número de su id\n",
        "\n",
        "**Nota:** para leer un número ingresado por el usuario y convertirlo en lista puede utilizar las siguientes instrucciones:\n",
        "\n",
        "```python\n",
        "num = input('Número: ')\n",
        "lst = [int(x) for x in num]\n",
        "```"
      ]
    },
    {
      "cell_type": "code",
      "execution_count": 7,
      "id": "895f4399",
      "metadata": {
        "id": "895f4399",
        "colab": {
          "base_uri": "https://localhost:8080/"
        },
        "outputId": "15463d64-8482-461a-edd6-1b67ba199463"
      },
      "outputs": [
        {
          "output_type": "stream",
          "name": "stdout",
          "text": [
            "Ingrese número de suma objetivo: 15\n",
            "Ingrese número para validar suma de dígitos: 1234562\n",
            "Suma obtenida en iteración 5 de 7\n",
            "Resultado obtenido: 15\n",
            "Alcanzó el valor objetivo.\n"
          ]
        }
      ],
      "source": [
        "n_obj = int(input(\"Ingrese número de suma objetivo: \"))\n",
        "num = input(\"Ingrese número para validar suma de dígitos: \")\n",
        "lst = [int(x) for x in num]\n",
        "\n",
        "suma = 0\n",
        "for i in range(len(lst)):\n",
        "    suma = suma + lst[i]\n",
        "    if suma == n_obj:\n",
        "        print(\"Suma obtenida en iteración\", i+1, \"de\", len(lst))\n",
        "        print(\"Resultado obtenido:\", suma)\n",
        "        print(\"Alcanzó el valor objetivo.\")\n",
        "        break\n",
        "else:\n",
        "    print(\"Resultado obtenido:\", suma)\n",
        "    print(\"No alcanzó el valor objetivo.\")"
      ]
    },
    {
      "cell_type": "markdown",
      "id": "0b532b9b",
      "metadata": {
        "id": "0b532b9b"
      },
      "source": [
        "### Problema 3: Dígito Mayor (40xp)\n",
        "\n",
        "Indique el dígito de mayor valor y su posición en un número ingresado por el usuario. En caso de que el dígito mayor se repita, se debe retornar el índice del primero de ellos que fue encontrado. \n",
        "\n",
        "**Ejemplo:**\n",
        "\n",
        "```\n",
        "Ingrese número: 123753569054\n",
        "El dígito mayor de la lista es 9\n",
        "El número se encontró en la posición 8\n",
        "```\n",
        "\n",
        "**Recomendación:** pruebe su algoritmo con listas de prueba:\n",
        "- `lst`: lista que representa el número a evaluar. Por ejemplo: dígitos del número de su documento de identidad\n",
        "\n",
        "**Nota:** para leer un número ingresado por el usuario y convertirlo en lista puede utilizar las siguientes instrucciones:\n",
        "\n",
        "```python\n",
        "num = input('Número: ')\n",
        "lst = [int(x) for x in num]\n",
        "```"
      ]
    },
    {
      "cell_type": "code",
      "execution_count": 11,
      "id": "9159f388",
      "metadata": {
        "scrolled": true,
        "id": "9159f388",
        "colab": {
          "base_uri": "https://localhost:8080/"
        },
        "outputId": "60082bdb-d84b-4395-fae9-26ef8b639954"
      },
      "outputs": [
        {
          "output_type": "stream",
          "name": "stdout",
          "text": [
            "Ingrese número: 123753569054\n",
            "El dígito mayor de la lista es 9\n",
            "El número se encontró en la posición 8\n"
          ]
        }
      ],
      "source": [
        "num = input(\"Ingrese número: \")\n",
        "lst = [int(x) for x in num]\n",
        "\n",
        "num_mayor = 0\n",
        "posicion = 0\n",
        "for i in range(len(lst)):\n",
        "    if lst[i] > num_mayor:\n",
        "        num_mayor = lst[i]\n",
        "        posicion = i\n",
        "\n",
        "print(\"El dígito mayor de la lista es\", num_mayor)\n",
        "print(\"El número se encontró en la posición\", posicion)"
      ]
    },
    {
      "cell_type": "markdown",
      "id": "03af9108",
      "metadata": {
        "id": "03af9108"
      },
      "source": [
        "### Problema 4: Valores que coinciden (50xp)\n",
        "\n",
        "Indique las posiciones (índices) en los cuales se encuentran los mismos valores de los dígitos en dos números ingresados por el usuario. El algoritmo debe verificar que los números tengan la misma longitud (igual número de dígitos). Si ninguno de los dígitos de los números coincide, también debe informarlo al usuario. \n",
        "\n",
        "**Ejemplo:**\n",
        "\n",
        "```\n",
        "Ingrese el primer número: 124646272\n",
        "Ingrese el segundo número: 354849136\n",
        "Los números tienen 2 dígitos(s) en común en la(s) posición(es): [2, 4]\n",
        "```\n",
        "\n",
        "**Recomendación:** pruebe su algoritmo con listas de prueba:\n",
        "- `lst_1`: lista que representa el primer número. \n",
        "- `lst_2`: lista que representa el segundo número. \n",
        "\n",
        "**Nota:** para leer un número ingresado por el usuario y convertirlo en lista puede utilizar las siguientes instrucciones:\n",
        "\n",
        "```python\n",
        "num = input('Número: ')\n",
        "lst = [int(x) for x in num]\n",
        "```"
      ]
    },
    {
      "cell_type": "code",
      "execution_count": 13,
      "id": "85469377",
      "metadata": {
        "id": "85469377",
        "colab": {
          "base_uri": "https://localhost:8080/"
        },
        "outputId": "46a3d916-3aad-4e48-d772-1d8c9bf796bb"
      },
      "outputs": [
        {
          "output_type": "stream",
          "name": "stdout",
          "text": [
            "Ingrese el primer número: 124646272\n",
            "Ingrese el segundo número: 354849136\n",
            "Los números tienen: 2 dígito(s) en común en la(s) posición(es): [2, 4]\n"
          ]
        }
      ],
      "source": [
        "num_1 = input(\"Ingrese el primer número: \")\n",
        "num_2 = input(\"Ingrese el segundo número: \")\n",
        "\n",
        "lst_1 = [int(x) for x in num_1]\n",
        "lst_2 = [int(x) for x in num_2]\n",
        "\n",
        "if len(lst_1) != len(lst_2):\n",
        "    print(\"Los números no tienen la misma longitud.\")\n",
        "else:\n",
        "    comun = []\n",
        "    for i in range(len(lst_1)):\n",
        "        if lst_1[i] == lst_2[i]:\n",
        "            comun.append(i)\n",
        "    if len(comun) == 0:\n",
        "        print(\"Los números no tienen dígitos en común.\")\n",
        "    else:\n",
        "        print(\"Los números tienen:\", len(comun), \"dígito(s) en común en la(s) posición(es):\", comun)"
      ]
    },
    {
      "cell_type": "code",
      "execution_count": null,
      "id": "fdf35177",
      "metadata": {
        "id": "fdf35177"
      },
      "outputs": [],
      "source": []
    }
  ],
  "metadata": {
    "kernelspec": {
      "display_name": "Python 3 (ipykernel)",
      "language": "python",
      "name": "python3"
    },
    "language_info": {
      "codemirror_mode": {
        "name": "ipython",
        "version": 3
      },
      "file_extension": ".py",
      "mimetype": "text/x-python",
      "name": "python",
      "nbconvert_exporter": "python",
      "pygments_lexer": "ipython3",
      "version": "3.10.6"
    },
    "colab": {
      "provenance": [],
      "include_colab_link": true
    }
  },
  "nbformat": 4,
  "nbformat_minor": 5
}